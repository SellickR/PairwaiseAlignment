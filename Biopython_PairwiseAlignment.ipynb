{
 "cells": [
  {
   "cell_type": "markdown",
   "metadata": {},
   "source": [
    "# Import BioPython \n",
    "_Package for analysing DNA, RNA and Proteins_"
   ]
  },
  {
   "cell_type": "markdown",
   "metadata": {},
   "source": [
    "**Install Biopython**\n",
    "\n",
    "_Make sure that Biopython is installed on your device_\n",
    "_https://biopython.org/wiki/Download_\n",
    "\n",
    "_All python packages will include the pip, the package management tool which allows installation from the command line on any platform_"
   ]
  },
  {
   "cell_type": "code",
   "execution_count": 1,
   "metadata": {},
   "outputs": [
    {
     "name": "stdout",
     "output_type": "stream",
     "text": [
      "Requirement already satisfied: biopython in c:\\users\\user\\anaconda3\\lib\\site-packages (1.78)\n",
      "Requirement already satisfied: numpy in c:\\users\\user\\anaconda3\\lib\\site-packages (from biopython) (1.19.2)\n",
      "Note: you may need to restart the kernel to use updated packages.\n"
     ]
    }
   ],
   "source": [
    "pip install biopython"
   ]
  },
  {
   "cell_type": "markdown",
   "metadata": {},
   "source": [
    "**Import subpackages to read in FASTA sequence**"
   ]
  },
  {
   "cell_type": "code",
   "execution_count": 2,
   "metadata": {},
   "outputs": [],
   "source": [
    "import Bio\n",
    "from Bio.Seq import Seq\n",
    "from Bio import SeqIO\n",
    "from Bio.SeqRecord import SeqRecord"
   ]
  },
  {
   "cell_type": "markdown",
   "metadata": {},
   "source": [
    "# Upload and Examine Drosophila MEF2 DNA Sequence\n",
    "_Note the id, seq & length of the sequence_"
   ]
  },
  {
   "cell_type": "code",
   "execution_count": 3,
   "metadata": {},
   "outputs": [
    {
     "name": "stdout",
     "output_type": "stream",
     "text": [
      "ENA|AGB93374|AGB93374.1\n",
      "Seq('ATGGGCCGCAAAAAAATTCAAATATCACGCATCACCGATGAACGCAATCGGCAG...TAG')\n",
      "1536\n"
     ]
    }
   ],
   "source": [
    "for dMEF2_dna in SeqIO.parse(\"dMEF2_dna.fasta\", \"fasta\"):\n",
    "    print(dMEF2_dna.id)\n",
    "    print(repr(dMEF2_dna.seq))\n",
    "    print(len(dMEF2_dna))"
   ]
  },
  {
   "cell_type": "markdown",
   "metadata": {},
   "source": [
    "**Create a Seq object**\n",
    "_I didn't do this initially & code did not run_"
   ]
  },
  {
   "cell_type": "code",
   "execution_count": 4,
   "metadata": {},
   "outputs": [],
   "source": [
    "Seq = dMEF2_dna.seq "
   ]
  },
  {
   "cell_type": "markdown",
   "metadata": {},
   "source": [
    "**Count Number of Each Nucleotide for each DNA sequence**"
   ]
  },
  {
   "cell_type": "code",
   "execution_count": 5,
   "metadata": {},
   "outputs": [
    {
     "data": {
      "text/plain": [
       "{'A': 380, 'T': 250, 'G': 415, 'C': 491}"
      ]
     },
     "execution_count": 5,
     "metadata": {},
     "output_type": "execute_result"
    }
   ],
   "source": [
    "dMEF2_dna_countDict ={'A': 0, 'T': 0, 'G': 0, 'C': 0}\n",
    "for record in SeqIO.parse(\"dMEF2_dna.fasta\", \"fasta\"):\n",
    "    for nucleotide in record.seq:\n",
    "        dMEF2_dna_countDict[nucleotide] += 1\n",
    "dMEF2_dna_countDict"
   ]
  },
  {
   "cell_type": "markdown",
   "metadata": {},
   "source": [
    "**Transcribe the sequences into RNA**"
   ]
  },
  {
   "cell_type": "code",
   "execution_count": 6,
   "metadata": {},
   "outputs": [],
   "source": [
    "dMEF2_rna = \"\"\n",
    "\n",
    "# Generate the RNA string\n",
    "for i in Seq:\n",
    "    # Replace all occurrences of T with U\n",
    "    if i == \"T\":\n",
    "        dMEF2_rna += \"U\"\n",
    "    else:\n",
    "        dMEF2_rna += i   "
   ]
  },
  {
   "cell_type": "markdown",
   "metadata": {},
   "source": [
    "_Check length of RNA sequence - is it the same as the DNA sequence?_"
   ]
  },
  {
   "cell_type": "code",
   "execution_count": 7,
   "metadata": {},
   "outputs": [
    {
     "name": "stdout",
     "output_type": "stream",
     "text": [
      "1536\n"
     ]
    }
   ],
   "source": [
    "print(len(dMEF2_rna))"
   ]
  },
  {
   "cell_type": "markdown",
   "metadata": {},
   "source": [
    "**Translate mRNA to Protein**"
   ]
  },
  {
   "cell_type": "code",
   "execution_count": 8,
   "metadata": {},
   "outputs": [],
   "source": [
    "# RNA codon table\n",
    "\n",
    "rna_codon = {\"UUU\":\"F\", \"UUC\":\"F\", \"UUA\":\"L\", \"UUG\":\"L\",\n",
    "    \"UCU\":\"S\", \"UCC\":\"s\", \"UCA\":\"S\", \"UCG\":\"S\",\n",
    "    \"UAU\":\"Y\", \"UAC\":\"Y\", \"UAA\":\"STOP\", \"UAG\":\"STOP\",\n",
    "    \"UGU\":\"C\", \"UGC\":\"C\", \"UGA\":\"STOP\", \"UGG\":\"W\",\n",
    "    \"CUU\":\"L\", \"CUC\":\"L\", \"CUA\":\"L\", \"CUG\":\"L\",\n",
    "    \"CCU\":\"P\", \"CCC\":\"P\", \"CCA\":\"P\", \"CCG\":\"P\",\n",
    "    \"CAU\":\"H\", \"CAC\":\"H\", \"CAA\":\"Q\", \"CAG\":\"Q\",\n",
    "    \"CGU\":\"R\", \"CGC\":\"R\", \"CGA\":\"R\", \"CGG\":\"R\",\n",
    "    \"AUU\":\"I\", \"AUC\":\"I\", \"AUA\":\"I\", \"AUG\":\"M\",\n",
    "    \"ACU\":\"T\", \"ACC\":\"T\", \"ACA\":\"T\", \"ACG\":\"T\",\n",
    "    \"AAU\":\"N\", \"AAC\":\"N\", \"AAA\":\"K\", \"AAG\":\"K\",\n",
    "    \"AGU\":\"S\", \"AGC\":\"S\", \"AGA\":\"R\", \"AGG\":\"R\",\n",
    "    \"GUU\":\"V\", \"GUC\":\"V\", \"GUA\":\"V\", \"GUG\":\"V\",\n",
    "    \"GCU\":\"A\", \"GCC\":\"A\", \"GCA\":\"A\", \"GCG\":\"A\",\n",
    "    \"GAU\":\"D\", \"GAC\":\"D\", \"GAA\":\"E\", \"GAG\":\"E\",\n",
    "    \"GGU\":\"G\", \"GGC\":\"G\", \"GGA\":\"G\", \"GGG\":\"G\"}"
   ]
  },
  {
   "cell_type": "code",
   "execution_count": 9,
   "metadata": {},
   "outputs": [
    {
     "name": "stdout",
     "output_type": "stream",
     "text": [
      "Protein String:  MGRKKIQISRITDERNRQVTFNKRKFGVMKKAYELsVLCDCEIALIIFSSSNKLYQYASTDMDRVLLKYTEYNEPHEsLTNKNIIEKENKNGVMSPDSPEAETDYTLTPRTEAKYNKIDEEFQNMMQRNQMAIGGAGAPRQLPNSSYTLPVSVPVPGSYGDNLLQASPQMsHTNISPRPSSSETDSGGMsLITHHLsIKQQSPGSQNGRAsNLRVVIPPTIAPIPPNMSAPDDVGYADSQTSLNTPVVTLQTPIPALTSYsFGAQDFsssGVMNSADIMSLNTWHQGLVPHSSLSHLAVSNSTPPPATsPVsIKVKAEPQSPPRDLsASGHQQNSNGsTGSGGsSSSTSSNASGGAGGGGAVSAANVITHLNNVSVLAGGPSGQGGGGGGGGSNGNVEQATNLSVLSHAQQHHLGMPNSRPSsTGHITPTPGHDKYEGYPYRALMGHNPRWNLNFADFIILNAGAPSSDQDVRLAAVAVQQQQQQPHQQQQLGDYDAPNHKRPRISGGWGT\n"
     ]
    }
   ],
   "source": [
    "dMEF2_rna = dMEF2_rna.upper()\n",
    "prot_seq=\"\"\n",
    "for i in range(0, len(dMEF2_rna)-(3+len(dMEF2_rna)%3), 3):\n",
    "    codon = dMEF2_rna[i:i + 3]\n",
    "    amino_acid=rna_codon.get(codon,\"\")\n",
    "    prot_seq+=amino_acid\n",
    "print(\"Protein String: \", prot_seq)\n",
    "\n",
    "\n",
    "# defining i as a codon. Chunks of 3 amino acids.  "
   ]
  },
  {
   "cell_type": "code",
   "execution_count": 10,
   "metadata": {},
   "outputs": [
    {
     "name": "stdout",
     "output_type": "stream",
     "text": [
      "511\n"
     ]
    }
   ],
   "source": [
    "print(len(prot_seq))"
   ]
  },
  {
   "cell_type": "markdown",
   "metadata": {},
   "source": [
    "**_Check the translation is successful_**"
   ]
  },
  {
   "cell_type": "code",
   "execution_count": 11,
   "metadata": {},
   "outputs": [
    {
     "data": {
      "text/plain": [
       "3.0058708414872797"
      ]
     },
     "execution_count": 11,
     "metadata": {},
     "output_type": "execute_result"
    }
   ],
   "source": [
    "# Divide DNA/Protein. If is equals 3, we can assume that translation is successful\n",
    "\n",
    "1536/511"
   ]
  },
  {
   "cell_type": "code",
   "execution_count": 12,
   "metadata": {},
   "outputs": [
    {
     "name": "stdout",
     "output_type": "stream",
     "text": [
      "tr|A0A0B4KEP4|A0A0B4KEP4_DROME\n",
      "Seq('MGRKKIQISRITDERNRQVTFNKRKFGVMKKAYELSVLCDCEIALIIFSSSNKL...WGT')\n",
      "511\n"
     ]
    }
   ],
   "source": [
    "for dMEF2_prot_seq in SeqIO.parse(\"dMEF2_prot_seq.fasta\", \"fasta\"):\n",
    "    print(dMEF2_prot_seq.id)\n",
    "    print(repr(dMEF2_prot_seq.seq))\n",
    "    print(len(dMEF2_prot_seq))"
   ]
  },
  {
   "cell_type": "code",
   "execution_count": 13,
   "metadata": {},
   "outputs": [],
   "source": [
    "Seq1 = dMEF2_prot_seq.seq #Seq Object for protein sequence"
   ]
  },
  {
   "cell_type": "markdown",
   "metadata": {},
   "source": [
    "# Upload & examine human MEF2C Protein Sequence"
   ]
  },
  {
   "cell_type": "code",
   "execution_count": 14,
   "metadata": {},
   "outputs": [
    {
     "name": "stdout",
     "output_type": "stream",
     "text": [
      "sp|Q06413|MEF2C_HUMAN\n",
      "Seq('MGRKKIQITRIMDERNRQVTFTKRKFGLMKKAYELSVLCDCEIALIIFNSTNKL...WAT')\n",
      "473\n"
     ]
    }
   ],
   "source": [
    "for hMEF2C_prot_seq in SeqIO.parse(\"hMEF2C_prot_seq.fasta\", \"fasta\"):\n",
    "    print(hMEF2C_prot_seq.id)\n",
    "    print(repr(hMEF2C_prot_seq.seq))\n",
    "    print(len(hMEF2C_prot_seq))"
   ]
  },
  {
   "cell_type": "code",
   "execution_count": 15,
   "metadata": {},
   "outputs": [
    {
     "data": {
      "text/plain": [
       "Seq('MGRKKIQITRIMDERNRQVTFTKRKFGLMKKAYELSVLCDCEIALIIFNSTNKL...WAT')"
      ]
     },
     "execution_count": 15,
     "metadata": {},
     "output_type": "execute_result"
    }
   ],
   "source": [
    "Seq2 = hMEF2C_prot_seq.seq \n",
    "Seq2"
   ]
  },
  {
   "cell_type": "markdown",
   "metadata": {},
   "source": [
    "# Pairwise sequence alignment of dMEF2 and hMEF2C\n",
    "\n",
    "**Import subpackages from Bio in order to run alignment**"
   ]
  },
  {
   "cell_type": "code",
   "execution_count": 16,
   "metadata": {},
   "outputs": [],
   "source": [
    "from Bio import Align\n",
    "\n",
    "from Bio import pairwise2\n",
    "from Bio.pairwise2 import identity_match"
   ]
  },
  {
   "cell_type": "markdown",
   "metadata": {},
   "source": [
    "**Create a PairwiseAligner object.** _Needed to generate pairwise alignments_"
   ]
  },
  {
   "cell_type": "code",
   "execution_count": 17,
   "metadata": {},
   "outputs": [],
   "source": [
    "aligner = Align.PairwiseAligner()"
   ]
  },
  {
   "cell_type": "code",
   "execution_count": 18,
   "metadata": {},
   "outputs": [
    {
     "name": "stdout",
     "output_type": "stream",
     "text": [
      "Pairwise sequence aligner with parameters\n",
      "  match_score: 1.000000\n",
      "  mismatch_score: 0.000000\n",
      "  target_internal_open_gap_score: 0.000000\n",
      "  target_internal_extend_gap_score: 0.000000\n",
      "  target_left_open_gap_score: 0.000000\n",
      "  target_left_extend_gap_score: 0.000000\n",
      "  target_right_open_gap_score: 0.000000\n",
      "  target_right_extend_gap_score: 0.000000\n",
      "  query_internal_open_gap_score: 0.000000\n",
      "  query_internal_extend_gap_score: 0.000000\n",
      "  query_left_open_gap_score: 0.000000\n",
      "  query_left_extend_gap_score: 0.000000\n",
      "  query_right_open_gap_score: 0.000000\n",
      "  query_right_extend_gap_score: 0.000000\n",
      "  mode: global\n",
      "\n"
     ]
    }
   ],
   "source": [
    "print(aligner)"
   ]
  },
  {
   "cell_type": "markdown",
   "metadata": {},
   "source": [
    "**Import Substitution Matrix, BLOSUM62**\n",
    "\n",
    "_Substitution used for protein alignment. Obtain a better and more meaningful alignment_"
   ]
  },
  {
   "cell_type": "code",
   "execution_count": 19,
   "metadata": {},
   "outputs": [],
   "source": [
    "from Bio.Align import substitution_matrices\n",
    "matrix = substitution_matrices.load(\"BLOSUM62\")\n",
    "aligner.substitution_matrix = matrix"
   ]
  },
  {
   "cell_type": "code",
   "execution_count": 44,
   "metadata": {},
   "outputs": [
    {
     "name": "stdout",
     "output_type": "stream",
     "text": [
      "#  Matrix made by matblas from blosum62.iij\n",
      "#  * column uses minimum score\n",
      "#  BLOSUM Clustered Scoring Matrix in 1/2 Bit Units\n",
      "#  Blocks Database = /data/blocks_5.0/blocks.dat\n",
      "#  Cluster Percentage: >= 62\n",
      "#  Entropy =   0.6979, Expected =  -0.5209\n",
      "     A    R    N    D    C    Q    E    G    H    I    L    K    M    F    P    S    T    W    Y    V    B    Z    X    *\n",
      "A  4.0 -1.0 -2.0 -2.0  0.0 -1.0 -1.0  0.0 -2.0 -1.0 -1.0 -1.0 -1.0 -2.0 -1.0  1.0  0.0 -3.0 -2.0  0.0 -2.0 -1.0  0.0 -4.0\n",
      "R -1.0  5.0  0.0 -2.0 -3.0  1.0  0.0 -2.0  0.0 -3.0 -2.0  2.0 -1.0 -3.0 -2.0 -1.0 -1.0 -3.0 -2.0 -3.0 -1.0  0.0 -1.0 -4.0\n",
      "N -2.0  0.0  6.0  1.0 -3.0  0.0  0.0  0.0  1.0 -3.0 -3.0  0.0 -2.0 -3.0 -2.0  1.0  0.0 -4.0 -2.0 -3.0  3.0  0.0 -1.0 -4.0\n",
      "D -2.0 -2.0  1.0  6.0 -3.0  0.0  2.0 -1.0 -1.0 -3.0 -4.0 -1.0 -3.0 -3.0 -1.0  0.0 -1.0 -4.0 -3.0 -3.0  4.0  1.0 -1.0 -4.0\n",
      "C  0.0 -3.0 -3.0 -3.0  9.0 -3.0 -4.0 -3.0 -3.0 -1.0 -1.0 -3.0 -1.0 -2.0 -3.0 -1.0 -1.0 -2.0 -2.0 -1.0 -3.0 -3.0 -2.0 -4.0\n",
      "Q -1.0  1.0  0.0  0.0 -3.0  5.0  2.0 -2.0  0.0 -3.0 -2.0  1.0  0.0 -3.0 -1.0  0.0 -1.0 -2.0 -1.0 -2.0  0.0  3.0 -1.0 -4.0\n",
      "E -1.0  0.0  0.0  2.0 -4.0  2.0  5.0 -2.0  0.0 -3.0 -3.0  1.0 -2.0 -3.0 -1.0  0.0 -1.0 -3.0 -2.0 -2.0  1.0  4.0 -1.0 -4.0\n",
      "G  0.0 -2.0  0.0 -1.0 -3.0 -2.0 -2.0  6.0 -2.0 -4.0 -4.0 -2.0 -3.0 -3.0 -2.0  0.0 -2.0 -2.0 -3.0 -3.0 -1.0 -2.0 -1.0 -4.0\n",
      "H -2.0  0.0  1.0 -1.0 -3.0  0.0  0.0 -2.0  8.0 -3.0 -3.0 -1.0 -2.0 -1.0 -2.0 -1.0 -2.0 -2.0  2.0 -3.0  0.0  0.0 -1.0 -4.0\n",
      "I -1.0 -3.0 -3.0 -3.0 -1.0 -3.0 -3.0 -4.0 -3.0  4.0  2.0 -3.0  1.0  0.0 -3.0 -2.0 -1.0 -3.0 -1.0  3.0 -3.0 -3.0 -1.0 -4.0\n",
      "L -1.0 -2.0 -3.0 -4.0 -1.0 -2.0 -3.0 -4.0 -3.0  2.0  4.0 -2.0  2.0  0.0 -3.0 -2.0 -1.0 -2.0 -1.0  1.0 -4.0 -3.0 -1.0 -4.0\n",
      "K -1.0  2.0  0.0 -1.0 -3.0  1.0  1.0 -2.0 -1.0 -3.0 -2.0  5.0 -1.0 -3.0 -1.0  0.0 -1.0 -3.0 -2.0 -2.0  0.0  1.0 -1.0 -4.0\n",
      "M -1.0 -1.0 -2.0 -3.0 -1.0  0.0 -2.0 -3.0 -2.0  1.0  2.0 -1.0  5.0  0.0 -2.0 -1.0 -1.0 -1.0 -1.0  1.0 -3.0 -1.0 -1.0 -4.0\n",
      "F -2.0 -3.0 -3.0 -3.0 -2.0 -3.0 -3.0 -3.0 -1.0  0.0  0.0 -3.0  0.0  6.0 -4.0 -2.0 -2.0  1.0  3.0 -1.0 -3.0 -3.0 -1.0 -4.0\n",
      "P -1.0 -2.0 -2.0 -1.0 -3.0 -1.0 -1.0 -2.0 -2.0 -3.0 -3.0 -1.0 -2.0 -4.0  7.0 -1.0 -1.0 -4.0 -3.0 -2.0 -2.0 -1.0 -2.0 -4.0\n",
      "S  1.0 -1.0  1.0  0.0 -1.0  0.0  0.0  0.0 -1.0 -2.0 -2.0  0.0 -1.0 -2.0 -1.0  4.0  1.0 -3.0 -2.0 -2.0  0.0  0.0  0.0 -4.0\n",
      "T  0.0 -1.0  0.0 -1.0 -1.0 -1.0 -1.0 -2.0 -2.0 -1.0 -1.0 -1.0 -1.0 -2.0 -1.0  1.0  5.0 -2.0 -2.0  0.0 -1.0 -1.0  0.0 -4.0\n",
      "W -3.0 -3.0 -4.0 -4.0 -2.0 -2.0 -3.0 -2.0 -2.0 -3.0 -2.0 -3.0 -1.0  1.0 -4.0 -3.0 -2.0 11.0  2.0 -3.0 -4.0 -3.0 -2.0 -4.0\n",
      "Y -2.0 -2.0 -2.0 -3.0 -2.0 -1.0 -2.0 -3.0  2.0 -1.0 -1.0 -2.0 -1.0  3.0 -3.0 -2.0 -2.0  2.0  7.0 -1.0 -3.0 -2.0 -1.0 -4.0\n",
      "V  0.0 -3.0 -3.0 -3.0 -1.0 -2.0 -2.0 -3.0 -3.0  3.0  1.0 -2.0  1.0 -1.0 -2.0 -2.0  0.0 -3.0 -1.0  4.0 -3.0 -2.0 -1.0 -4.0\n",
      "B -2.0 -1.0  3.0  4.0 -3.0  0.0  1.0 -1.0  0.0 -3.0 -4.0  0.0 -3.0 -3.0 -2.0  0.0 -1.0 -4.0 -3.0 -3.0  4.0  1.0 -1.0 -4.0\n",
      "Z -1.0  0.0  0.0  1.0 -3.0  3.0  4.0 -2.0  0.0 -3.0 -3.0  1.0 -1.0 -3.0 -1.0  0.0 -1.0 -3.0 -2.0 -2.0  1.0  4.0 -1.0 -4.0\n",
      "X  0.0 -1.0 -1.0 -1.0 -2.0 -1.0 -1.0 -1.0 -1.0 -1.0 -1.0 -1.0 -1.0 -1.0 -2.0  0.0  0.0 -2.0 -1.0 -1.0 -1.0 -1.0 -1.0 -4.0\n",
      "* -4.0 -4.0 -4.0 -4.0 -4.0 -4.0 -4.0 -4.0 -4.0 -4.0 -4.0 -4.0 -4.0 -4.0 -4.0 -4.0 -4.0 -4.0 -4.0 -4.0 -4.0 -4.0 -4.0  1.0\n",
      "\n"
     ]
    }
   ],
   "source": [
    "print(matrix) # Make sure the matrix is loaded correctly"
   ]
  },
  {
   "cell_type": "markdown",
   "metadata": {},
   "source": [
    "**Calculate the alignment of the sequence**\n",
    "_Mismatch score of -10. Gap penalty of -0.5_"
   ]
  },
  {
   "cell_type": "code",
   "execution_count": 21,
   "metadata": {},
   "outputs": [],
   "source": [
    "alignments = pairwise2.align.globalds(Seq1, Seq2, matrix, -10, -0.5) \n"
   ]
  },
  {
   "cell_type": "markdown",
   "metadata": {},
   "source": [
    "It is possible to use the below code to print the alignment:\n",
    "\n",
    "_for alignment in alignments \n",
    "      print(alignment)_\n",
    "      \n",
    "However, **pairwise2** provides a formatting method for better visualisation"
   ]
  },
  {
   "cell_type": "code",
   "execution_count": 22,
   "metadata": {},
   "outputs": [],
   "source": [
    "from Bio.pairwise2 import format_alignment\n",
    "alignment = alignments[0]"
   ]
  },
  {
   "cell_type": "code",
   "execution_count": 23,
   "metadata": {},
   "outputs": [
    {
     "name": "stdout",
     "output_type": "stream",
     "text": [
      "MGRKKIQISRITDERNRQVTFNKRKFGVMKKAYELSVLCDCEIALIIFSSSNKLYQYASTDMDRVLLKYTEYNEPHESLTNKNIIEKENKNGVMSPDSPEAETDYTL--TPRTEAKYNKIDEEFQNMMQRNQMAIGGAGAPRQLPNSSYTLPVSVPVP-----------GSYGD-NLLQ-ASPQMSHTNISP----RPSSS---------ETDSGGMSLITHHLSIKQQSPG----------------------SQNGRASNLRVVIPPTIAPIPPNMSAPDD------VGYADSQTSLNTPVVTLQTP-IPAL--------------TSYSFGAQDFSSSGVMNSADIMSLNT---W---HQGLVPHSSLS--------HLAVSNSTPPPATSPVSIKVKAEPQSPPRD--LSASGHQQNSNGSTGSG--GSSSSTSSNASGGAGGGGAVSAANVITHLNNVSVLAGGPSGQGGGGGGGGSNGNVEQATNLSVLSHAQQHHLGMPNSRPSSTGHITPTPGHDKYEGYPYRALMGHNPRWNLNFADFIILNAGAPSSDQDVRLAAVAVQQQQQQPHQQQQLGDYDAPNHKRPRISGGWGT\n",
      "||||||||.||.|||||||||.|||||.||||||||||||||||||||.|.|||.||||||||.||||||||||||||.||..|.|...|.|....|||....|...  .|..|.||.||.|....|..|....        ..|......|||.||.           .|.|. |||. |.|.......||    ||.|.         ...||..............|||                      ..|.|...|||.|||......|..|...|      .....|..||.||||...|| .|..              |.||....|.||....|.|....|..   |   |....|.|.||        ||..|.....|.|.  |...|.||.|||||  ...|...|......|..  .|.||.||...|                                                    |....|.    |...|..|...|.|                                       |.|                      ..|..||.|.|.||.|\n",
      "MGRKKIQITRIMDERNRQVTFTKRKFGLMKKAYELSVLCDCEIALIIFNSTNKLFQYASTDMDKVLLKYTEYNEPHESRTNSDIVETLRKKGLNGCDSPDPDADDSVGHSPESEDKYRKINEDIDLMISRQRLC--------AVPPPNFEMPVSIPVSSHNSLVYSNPVSSLGNPNLLPLAHPSLQRNSMSPGVTHRPPSAGNTGGLMGGDLTSGAGTSAGNGYGNPRNSPGLLVSPGNLNKNMQAKSPPPMNLGMNNRKPDLRVLIPPGSKNTMPSVSEDVDLLLNQRINNSQSAQSLATPVVSVATPTLPGQGMGGYPSAISTTYGTEYSLSSADLSSLSGFNTASALHLGSVTGWQQQHLHNMPPSALSQLGACTSTHLSQSSNLSLPSTQ--SLNIKSEPVSPPRDRTTTPSRYPQHTRHEAGRSPVDSLSSCSSSYDG----------------------------------------------------SDREDHR----NEFHSPIGLTRPSP---------------------------------------DER----------------------ESPSVKRMRLSEGWAT\n",
      "  Score=646.5\n",
      "\n"
     ]
    }
   ],
   "source": [
    "print(pairwise2.format_alignment(*alignments[0]))"
   ]
  },
  {
   "cell_type": "markdown",
   "metadata": {},
   "source": [
    "Score of 646.5 [this indicates a good alignment]\n",
    "\n",
    "**Quantify percentage alignment similarity**"
   ]
  },
  {
   "cell_type": "code",
   "execution_count": 24,
   "metadata": {},
   "outputs": [],
   "source": [
    "identical_residues=sum([True for i in range(len(alignment.seqA)) if (alignment.seqA[i]==alignment.seqB[i] and alignment.seqA[i]!='-' and alignment.seqB[i]!='-')])"
   ]
  },
  {
   "cell_type": "code",
   "execution_count": 25,
   "metadata": {},
   "outputs": [
    {
     "name": "stdout",
     "output_type": "stream",
     "text": [
      "The number of identical residues is: 188\n",
      "The length of the alignment is: 600\n",
      "The identity percentage between seq1 and seq2 is: 188/600=31.333\n"
     ]
    }
   ],
   "source": [
    "print('The number of identical residues is: {}'.format(identical_residues))\n",
    "print('The length of the alignment is: {}'.format(alignment.end-alignment.start))\n",
    "print(\"The identity percentage between seq1 and seq2 is: {}/{}={:.3f}\".format(identical_residues,alignment.end-alignment.start,identical_residues/(alignment.end-alignment.start)*100))"
   ]
  },
  {
   "cell_type": "markdown",
   "metadata": {},
   "source": [
    "# Perform Local Alignment on dMEF2 & hMEF2C"
   ]
  },
  {
   "cell_type": "markdown",
   "metadata": {},
   "source": [
    "**Local Alignment for MADS-BOX domain**"
   ]
  },
  {
   "cell_type": "code",
   "execution_count": 26,
   "metadata": {},
   "outputs": [
    {
     "name": "stdout",
     "output_type": "stream",
     "text": [
      "1\n"
     ]
    }
   ],
   "source": [
    "aligner.mode = 'local' # indicates local alignment\n",
    "aligner.open_gap_score = -10\n",
    "aligner.extend_gap_score = -1\n",
    "alignments = aligner.align('MGRKKIQISRITDERNRQVTFNKRKFGVMKKAYELSVLCDCEIALIIFSS', 'MGRKKIQITRIMDERNRQVTFTKRKFGLMKKAYELSVLCDCEIALIIFNS')\n",
    "\n",
    "print(len(alignments))"
   ]
  },
  {
   "cell_type": "code",
   "execution_count": 27,
   "metadata": {},
   "outputs": [
    {
     "name": "stdout",
     "output_type": "stream",
     "text": [
      "MGRKKIQISRITDERNRQVTFNKRKFGVMKKAYELSVLCDCEIALIIFSS\n",
      "||||||||.||.|||||||||.|||||.||||||||||||||||||||.|\n",
      "MGRKKIQITRIMDERNRQVTFTKRKFGLMKKAYELSVLCDCEIALIIFNS\n",
      "\n"
     ]
    }
   ],
   "source": [
    "alignment = alignments[0]\n",
    "print(alignment)"
   ]
  },
  {
   "cell_type": "code",
   "execution_count": 28,
   "metadata": {},
   "outputs": [
    {
     "name": "stdout",
     "output_type": "stream",
     "text": [
      "230.0\n"
     ]
    }
   ],
   "source": [
    "print(alignment.score) # calculate alignment score"
   ]
  },
  {
   "cell_type": "markdown",
   "metadata": {},
   "source": [
    "_The above indicates a large amount of the protein sequence is conserved_"
   ]
  },
  {
   "cell_type": "markdown",
   "metadata": {},
   "source": [
    "**Local alignment for MEF2 Domain**"
   ]
  },
  {
   "cell_type": "code",
   "execution_count": 29,
   "metadata": {},
   "outputs": [
    {
     "name": "stdout",
     "output_type": "stream",
     "text": [
      "1\n"
     ]
    }
   ],
   "source": [
    "aligner.mode = 'local'\n",
    "aligner.open_gap_score = -10\n",
    "aligner.extend_gap_score = -1\n",
    "alignments = aligner.align('SNKLYQYASTDMDRVLLKYTEYNEPHESLTNKNIIEKENKN', 'TNKLFQYASTDMDKVLLKYTEYNEPHESRTNSDIVETLRKK')\n",
    "\n",
    "print(len(alignments))"
   ]
  },
  {
   "cell_type": "code",
   "execution_count": 30,
   "metadata": {},
   "outputs": [
    {
     "name": "stdout",
     "output_type": "stream",
     "text": [
      "SNKLYQYASTDMDRVLLKYTEYNEPHESLTNKNIIEKENKN\n",
      ".|||.||||||||.||||||||||||||.||..|.|...| \n",
      "TNKLFQYASTDMDKVLLKYTEYNEPHESRTNSDIVETLRKK\n",
      "\n"
     ]
    }
   ],
   "source": [
    "alignment = alignments[0]\n",
    "print(alignment)"
   ]
  },
  {
   "cell_type": "code",
   "execution_count": 31,
   "metadata": {},
   "outputs": [
    {
     "name": "stdout",
     "output_type": "stream",
     "text": [
      "162.0\n"
     ]
    }
   ],
   "source": [
    "print(alignment.score)"
   ]
  },
  {
   "cell_type": "markdown",
   "metadata": {},
   "source": [
    "_This domain is Not as conserved as MADS-Box but relatively well conserved_"
   ]
  },
  {
   "cell_type": "markdown",
   "metadata": {},
   "source": [
    "**Local alignment of the transactivation domain (the rest of the sequence)**"
   ]
  },
  {
   "cell_type": "code",
   "execution_count": 32,
   "metadata": {},
   "outputs": [
    {
     "name": "stdout",
     "output_type": "stream",
     "text": [
      "8\n",
      "   GVMSPDSPEAETDYTLTPRTEAKYNKIDEEFQNMMQRNQMAIGGAGAPRQLPNSSYTLPVSVPVP-----------GSYGD-NLLQ-ASPQMSHTNISP----RPSSS---------ETDSGGMSLITHHLSIKQQSPG----------------------SQNGRASNLRVVIPPTIAPIPPNMSAPDD------VGYADSQTSLNTPVVTLQTP-IPAL--------------TSYSFGAQDFSSSGVMNSADIMSLNT---W---HQGLVPHSSLS--------HLAVSNSTPPPATSPVSIKVKAEPQSPPRD--LSASGHQQNSNGSTGSG--GSSSSTSSNASGGAGGGGAVSAANVITHLNNVSVLAGGPSGQGGGGGGGGSNGNVEQATNLSVLSHAQQHHLGMPNSRPSSTGHITPTPGHDKYEGYPYRALMGHNPRWNLNFADFIILNAGAPSSDQDVRLAAVAVQQQQQQPHQQQQLGDYDAPNHKRPRISGGWGT\n",
      "   |..|||-|.|.......|..|.||.||.|....|..|....--------..|......|||.||.-----------.|.|.-|||.-|.|.......||----||.|.---------...||..............|||----------------------..|.|...|||.|||......|..|...|------.....|..||.||||...||-.|..--------------|.||....|.||....|.|....|..---|---|....|.|.||--------||..|.....|.|.--|...|.||.|||||--...|...|......|..--.|.||.||...|                                                                                                                                                             \n",
      "GLNGCDSPD-PDADDSVGHSPESEDKYRKINEDIDLMISRQRLC--------AVPPPNFEMPVSIPVSSHNSLVYSNPVSSLGNPNLLPLAHPSLQRNSMSPGVTHRPPSAGNTGGLMGGDLTSGAGTSAGNGYGNPRNSPGLLVSPGNLNKNMQAKSPPPMNLGMNNRKPDLRVLIPPGSKNTMPSVSEDVDLLLNQRINNSQSAQSLATPVVSVATPTLPGQGMGGYPSAISTTYGTEYSLSSADLSSLSGFNTASALHLGSVTGWQQQHLHNMPPSALSQLGACTSTHLSQSSNLSLPSTQ--SLNIKSEPVSPPRDRTTTPSRYPQHTRHEAGRSPVDSLSSCSSSYDGSDREDHRNEFHSPIGLTRPSPDERESPSVKRMRLSEGWAT                                                                                                                     \n",
      "\n",
      "224.0\n"
     ]
    }
   ],
   "source": [
    "# Original Code that I ran: \n",
    "    \n",
    "aligner.mode = 'local'\n",
    "aligner.open_gap_score = -10\n",
    "aligner.extend_gap_score = -1\n",
    "\n",
    "alignments = aligner.align('GVMSPDSPEAETDYTLTPRTEAKYNKIDEEFQNMMQRNQMAIGGAGAPRQLPNSSYTLPVSVPVPGSYGDNLLQASPQMSHTNISPRPSSSETDSGGMSLITHHLSIKQQSPGSQNGRASNLRVVIPPTIAPIPPNMSAPDDVGYADSQTSLNTPVVTLQTPIPALTSYSFGAQDFSSSGVMNSADIMSLNTWHQGLVPHSSLSHLAVSNSTPPPATSPVSIKVKAEPQSPPRDLSASGHQQNSNGSTGSGGSSSSTSSNASGGAGGGGAVSAANVITHLNNVSVLAGGPSGQGGGGGGGGSNGNVEQATNLSVLSHAQQHHLGMPNSRPSSTGHITPTPGHDKYEGYPYRALMGHNPRWNLNFADFIILNAGAPSSDQDVRLAAVAVQQQQQQPHQQQQLGDYDAPNHKRPRISGGWGT', \n",
    "                           'GLNGCDSPDPDADDSVGHSPESEDKYRKINEDIDLMISRQRLCAVPPPNFEMPVSIPVSSHNSLVYSNPVSSLGNPNLLPLAHPSLQRNSMSPGVTHRPPSAGNTGGLMGGDLTSGAGTSAGNGYGNPRNSPGLLVSPGNLNKNMQAKSPPPMNLGMNNRKPDLRVLIPPGSKNTMPSVSEDVDLLLNQRINNSQSAQSLATPVVSVATPTLPGQGMGGYPSAISTTYGTEYSLSSADLSSLSGFNTASALHLGSVTGWQQQHLHNMPPSALSQLGACTSTHLSQSSNLSLPSTQSLNIKSEPVSPPRDRTTTPSRYPQHTRHEAGRSPVDSLSSCSSSYDGSDREDHRNEFHSPIGLTRPSPDERESPSVKRMRLSEGWAT')\n",
    "\n",
    "print(len(alignments))\n",
    "\n",
    "alignment = alignments[0]\n",
    "print(alignment)\n",
    "\n",
    "print(alignment.score)\n"
   ]
  },
  {
   "cell_type": "markdown",
   "metadata": {},
   "source": [
    "_I realised that this protein sequence was considerably longer than the MADS Box & MEF2 domain,_\n",
    "_so it would be beneficial to use PairWise2 and format the alignment for a better output that was_\n",
    "_easier to understand & would allow me to look at percentage similarity._"
   ]
  },
  {
   "cell_type": "code",
   "execution_count": 33,
   "metadata": {},
   "outputs": [],
   "source": [
    "alignments = pairwise2.align.localds('GVMSPDSPEAETDYTLTPRTEAKYNKIDEEFQNMMQRNQMAIGGAGAPRQLPNSSYTLPVSVPVPGSYGDNLLQASPQMSHTNISPRPSSSETDSGGMSLITHHLSIKQQSPGSQNGRASNLRVVIPPTIAPIPPNMSAPDDVGYADSQTSLNTPVVTLQTPIPALTSYSFGAQDFSSSGVMNSADIMSLNTWHQGLVPHSSLSHLAVSNSTPPPATSPVSIKVKAEPQSPPRDLSASGHQQNSNGSTGSGGSSSSTSSNASGGAGGGGAVSAANVITHLNNVSVLAGGPSGQGGGGGGGGSNGNVEQATNLSVLSHAQQHHLGMPNSRPSSTGHITPTPGHDKYEGYPYRALMGHNPRWNLNFADFIILNAGAPSSDQDVRLAAVAVQQQQQQPHQQQQLGDYDAPNHKRPRISGGWGT', \n",
    "                           'GLNGCDSPDPDADDSVGHSPESEDKYRKINEDIDLMISRQRLCAVPPPNFEMPVSIPVSSHNSLVYSNPVSSLGNPNLLPLAHPSLQRNSMSPGVTHRPPSAGNTGGLMGGDLTSGAGTSAGNGYGNPRNSPGLLVSPGNLNKNMQAKSPPPMNLGMNNRKPDLRVLIPPGSKNTMPSVSEDVDLLLNQRINNSQSAQSLATPVVSVATPTLPGQGMGGYPSAISTTYGTEYSLSSADLSSLSGFNTASALHLGSVTGWQQQHLHNMPPSALSQLGACTSTHLSQSSNLSLPSTQSLNIKSEPVSPPRDRTTTPSRYPQHTRHEAGRSPVDSLSSCSSSYDGSDREDHRNEFHSPIGLTRPSPDERESPSVKRMRLSEGWAT', matrix, -10, -0.5)"
   ]
  },
  {
   "cell_type": "code",
   "execution_count": 34,
   "metadata": {},
   "outputs": [],
   "source": [
    "alignment = alignments[0]"
   ]
  },
  {
   "cell_type": "code",
   "execution_count": 35,
   "metadata": {},
   "outputs": [
    {
     "name": "stdout",
     "output_type": "stream",
     "text": [
      "1 GVMSPDSPEAETDYTLTPRTEAKYNKIDEEFQNMMQRNQMAIGGAGAPRQLPNSSYTLPVSVPVP-----------GSYGD-NLLQ-ASPQMSHTNISP----RPSSS---------ETDSGGMSLITHHLSIKQQSPG----------------------SQNGRASNLRVVIPPTIAPIPPNMSAPDD------VGYADSQTSLNTPVVTLQTP-IPAL--------------TSYSFGAQDFSSSGVMNSADIMSLNT---W---HQGLVPHSSLS--------HLAVSNSTPPPATSPVSIKVKAEPQSPPRD--LSASGHQQNSNGSTGSG--GSSSSTSSNASG\n",
      "  |..||| |.|.......|..|.||.||.|....|..|....        ..|......|||.||.           .|.|. |||. |.|.......||    ||.|.         ...||..............|||                      ..|.|...|||.|||......|..|...|      .....|..||.||||...|| .|..              |.||....|.||....|.|....|..   |   |....|.|.||        ||..|.....|.|.  |...|.||.|||||  ...|...|......|..  .|.||.||...|\n",
      "4 GCDSPD-PDADDSVGHSPESEDKYRKINEDIDLMISRQRLC--------AVPPPNFEMPVSIPVSSHNSLVYSNPVSSLGNPNLLPLAHPSLQRNSMSPGVTHRPPSAGNTGGLMGGDLTSGAGTSAGNGYGNPRNSPGLLVSPGNLNKNMQAKSPPPMNLGMNNRKPDLRVLIPPGSKNTMPSVSEDVDLLLNQRINNSQSAQSLATPVVSVATPTLPGQGMGGYPSAISTTYGTEYSLSSADLSSLSGFNTASALHLGSVTGWQQQHLHNMPPSALSQLGACTSTHLSQSSNLSLPSTQ--SLNIKSEPVSPPRDRTTTPSRYPQHTRHEAGRSPVDSLSSCSSSYDG\n",
      "  Score=264.5\n",
      "\n"
     ]
    }
   ],
   "source": [
    "print(pairwise2.format_alignment(*alignments[0]))"
   ]
  },
  {
   "cell_type": "code",
   "execution_count": 36,
   "metadata": {},
   "outputs": [],
   "source": [
    "identical_residues=sum([True for i in range(len(alignment.seqA)) if (alignment.seqA[i]==alignment.seqB[i] and alignment.seqA[i]!='-' and alignment.seqB[i]!='-')])"
   ]
  },
  {
   "cell_type": "code",
   "execution_count": 37,
   "metadata": {},
   "outputs": [
    {
     "name": "stdout",
     "output_type": "stream",
     "text": [
      "The number of identical residues is: 101\n",
      "The length of the alignment is: 350\n",
      "The identity percentage between seq1 and seq2 is: 101/350=28.857\n"
     ]
    }
   ],
   "source": [
    "print('The number of identical residues is: {}'.format(identical_residues))\n",
    "print('The length of the alignment is: {}'.format(alignment.end-alignment.start))\n",
    "print(\"The identity percentage between seq1 and seq2 is: {}/{}={:.3f}\".format(identical_residues,alignment.end-alignment.start,identical_residues/(alignment.end-alignment.start)*100))"
   ]
  },
  {
   "cell_type": "markdown",
   "metadata": {},
   "source": [
    "**Local Alignment of Transcription repressor**"
   ]
  },
  {
   "cell_type": "code",
   "execution_count": 38,
   "metadata": {},
   "outputs": [
    {
     "name": "stdout",
     "output_type": "stream",
     "text": [
      "1\n"
     ]
    }
   ],
   "source": [
    "aligner.mode = 'local'\n",
    "aligner.open_gap_score = -10\n",
    "aligner.extend_gap_score = -1\n",
    "\n",
    "alignments = aligner.align('ITHLNNVSVLAGGPSGQGGGGGGGGSNGNVE','ACTSTHLSQSSNLSLPSTQSLNIKSEPVSPP')\n",
    "print(len(alignments))"
   ]
  },
  {
   "cell_type": "code",
   "execution_count": 39,
   "metadata": {},
   "outputs": [
    {
     "name": "stdout",
     "output_type": "stream",
     "text": [
      "   ITHLNNVSVLAGGPSGQGGGGGGGGSNGNVE\n",
      "    |||...|.|.                    \n",
      "ACTSTHLSQSSNLSLPSTQSLNIKSEPVSPP   \n",
      "\n"
     ]
    }
   ],
   "source": [
    "alignment = alignments[0]\n",
    "print(alignment)"
   ]
  },
  {
   "cell_type": "code",
   "execution_count": 40,
   "metadata": {},
   "outputs": [
    {
     "name": "stdout",
     "output_type": "stream",
     "text": [
      "22.0\n"
     ]
    }
   ],
   "source": [
    "print(alignment.score)"
   ]
  },
  {
   "cell_type": "markdown",
   "metadata": {},
   "source": [
    "_Not highly conserved in the specific region_"
   ]
  },
  {
   "cell_type": "markdown",
   "metadata": {},
   "source": [
    "**Local Alignment of Ser/Th rich domain**"
   ]
  },
  {
   "cell_type": "code",
   "execution_count": 41,
   "metadata": {},
   "outputs": [
    {
     "name": "stdout",
     "output_type": "stream",
     "text": [
      "2\n"
     ]
    }
   ],
   "source": [
    "aligner.mode = 'local'\n",
    "aligner.open_gap_score = -10\n",
    "aligner.extend_gap_score = -1\n",
    "\n",
    "alignments = aligner.align('SYTLPVSVPVPGSYGDNLLQASPQMSHTNISPRPSSS','SIPVSSHNSLVYSNPVSSLGNPNLLPLAHPSLQRNSM')\n",
    "print(len(alignments))"
   ]
  },
  {
   "cell_type": "code",
   "execution_count": 42,
   "metadata": {},
   "outputs": [
    {
     "name": "stdout",
     "output_type": "stream",
     "text": [
      "SYTLPVSVPVPGSYGDNLLQASP--QMSHTNISPRPSSS      \n",
      "         .|.|....|....|--.....|..|           \n",
      "        SIPVSSHNSLVYSNPVSSLGNPNLLPLAHPSLQRNSM\n",
      "\n"
     ]
    }
   ],
   "source": [
    "alignment = alignments[0]\n",
    "print(alignment)"
   ]
  },
  {
   "cell_type": "code",
   "execution_count": 43,
   "metadata": {},
   "outputs": [
    {
     "name": "stdout",
     "output_type": "stream",
     "text": [
      "26.0\n"
     ]
    }
   ],
   "source": [
    "print(alignment.score)"
   ]
  },
  {
   "cell_type": "markdown",
   "metadata": {},
   "source": [
    "_Not highly conserved in this specific region_"
   ]
  },
  {
   "cell_type": "code",
   "execution_count": null,
   "metadata": {},
   "outputs": [],
   "source": []
  }
 ],
 "metadata": {
  "kernelspec": {
   "display_name": "Python 3",
   "language": "python",
   "name": "python3"
  },
  "language_info": {
   "codemirror_mode": {
    "name": "ipython",
    "version": 3
   },
   "file_extension": ".py",
   "mimetype": "text/x-python",
   "name": "python",
   "nbconvert_exporter": "python",
   "pygments_lexer": "ipython3",
   "version": "3.8.5"
  }
 },
 "nbformat": 4,
 "nbformat_minor": 4
}
